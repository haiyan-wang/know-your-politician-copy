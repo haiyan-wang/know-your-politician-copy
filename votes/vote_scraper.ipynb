{
 "cells": [
  {
   "cell_type": "code",
   "execution_count": 23,
   "metadata": {},
   "outputs": [],
   "source": [
    "import pandas as pd\n",
    "import os"
   ]
  },
  {
   "cell_type": "code",
   "execution_count": 22,
   "metadata": {},
   "outputs": [
    {
     "data": {
      "text/plain": [
       "\"\\nfor i in range(1, 597):\\n    try:\\n        url = f'https://www.govtrack.us/congress/votes/118-2023/h{i}/export/csv'\\n        df = pd.read_csv(url)\\n        df.reset_index(inplace = True)\\n        df.rename(dict(zip(df.columns, ['id', 'state', 'district', 'vote', 'name', 'party'])), axis = 1, inplace = True)\\n        df.drop(['state', 'district'], axis = 1, inplace = True)\\n        df.to_csv(f'h{i}.csv', index=False)\\n\\n    except FileNotFoundError:\\n        print(i)\\n        continue\\n\""
      ]
     },
     "execution_count": 22,
     "metadata": {},
     "output_type": "execute_result"
    }
   ],
   "source": [
    "### Reading vote data for 118th Congress\n",
    "\n",
    "'''\n",
    "for i in range(1, 597):\n",
    "    try:\n",
    "        url = f'https://www.govtrack.us/congress/votes/118-2023/h{i}/export/csv'\n",
    "        df = pd.read_csv(url)\n",
    "        df.reset_index(inplace = True)\n",
    "        df.rename(dict(zip(df.columns, ['id', 'state', 'district', 'vote', 'name', 'party'])), axis = 1, inplace = True)\n",
    "        df.drop(['state', 'district'], axis = 1, inplace = True)\n",
    "        df.to_csv(f'h{i}.csv', index=False)\n",
    "\n",
    "    except FileNotFoundError:\n",
    "        print(i)\n",
    "        continue\n",
    "'''"
   ]
  },
  {
   "cell_type": "code",
   "execution_count": 52,
   "metadata": {},
   "outputs": [],
   "source": [
    "### Map representative ID to representative names\n",
    "\n",
    "df = pd.read_csv('vote_data_118/h1.csv')\n",
    "df.drop(0, inplace = True)\n",
    "df['name'] = df['name'].str.removeprefix('Rep. ').str.replace(r' \\[.*\\]', '', regex = True)\n",
    "reps = dict(zip(df['id'], df['name']))\n",
    "adj_list_pos = dict(zip(df['name'], [*range(435)]))"
   ]
  },
  {
   "cell_type": "code",
   "execution_count": 57,
   "metadata": {},
   "outputs": [],
   "source": [
    "adj_list = [[0 for i in range(435)] for j in range(435)]\n",
    "for file in os.listdir('vote_data_118'):\n",
    "    df = pd.read_csv('vote_data_118/' + file)\n",
    "    "
   ]
  }
 ],
 "metadata": {
  "kernelspec": {
   "display_name": "Python 3 (ipykernel)",
   "language": "python",
   "name": "python3"
  },
  "language_info": {
   "codemirror_mode": {
    "name": "ipython",
    "version": 3
   },
   "file_extension": ".py",
   "mimetype": "text/x-python",
   "name": "python",
   "nbconvert_exporter": "python",
   "pygments_lexer": "ipython3",
   "version": "3.9.16"
  }
 },
 "nbformat": 4,
 "nbformat_minor": 2
}
