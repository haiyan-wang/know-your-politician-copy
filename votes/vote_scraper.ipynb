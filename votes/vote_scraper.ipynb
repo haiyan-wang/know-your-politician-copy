{
 "cells": [
  {
   "cell_type": "code",
   "execution_count": 220,
   "metadata": {},
   "outputs": [],
   "source": [
    "import pandas as pd\n",
    "import os"
   ]
  },
  {
   "cell_type": "code",
   "execution_count": 231,
   "metadata": {},
   "outputs": [],
   "source": [
    "### Reading vote data (currently on 117, 2021)\n",
    "\n",
    "for i in range(1, 450):\n",
    "    try:\n",
    "        url = f'https://www.govtrack.us/congress/votes/117-2021/h{i}/export/csv'\n",
    "        df = pd.read_csv(url)\n",
    "        df.reset_index(inplace = True)\n",
    "        df.rename(dict(zip(df.columns, ['id', 'state', 'district', 'vote', 'name', 'party'])), axis = 1, inplace = True)\n",
    "        df.drop(['state', 'district'], axis = 1, inplace = True)\n",
    "        df.to_csv(f'vote_data_117/h{i}.csv', index=False)\n",
    "\n",
    "    except FileNotFoundError:\n",
    "        print(i)\n",
    "        continue"
   ]
  },
  {
   "cell_type": "code",
   "execution_count": 232,
   "metadata": {},
   "outputs": [],
   "source": [
    "### Reading vote data (currently on 116, 2019)\n",
    "\n",
    "for i in range(1, 702):\n",
    "    try:\n",
    "        url = f'https://www.govtrack.us/congress/votes/116-2019/h{i}/export/csv'\n",
    "        df = pd.read_csv(url)\n",
    "        df.reset_index(inplace = True)\n",
    "        df.rename(dict(zip(df.columns, ['id', 'state', 'district', 'vote', 'name', 'party'])), axis = 1, inplace = True)\n",
    "        df.drop(['state', 'district'], axis = 1, inplace = True)\n",
    "        df.to_csv(f'vote_data_116/h{i}.csv', index=False)\n",
    "\n",
    "    except FileNotFoundError:\n",
    "        print(i)\n",
    "        continue"
   ]
  },
  {
   "cell_type": "code",
   "execution_count": 235,
   "metadata": {},
   "outputs": [],
   "source": [
    "### Reading vote data (currently on 116, 2020)\n",
    "\n",
    "for i in range(1, 254):\n",
    "    try:\n",
    "        url = f'https://www.govtrack.us/congress/votes/116-2020/h{i}/export/csv'\n",
    "        df = pd.read_csv(url)\n",
    "        df.reset_index(inplace = True)\n",
    "        df.rename(dict(zip(df.columns, ['id', 'state', 'district', 'vote', 'name', 'party'])), axis = 1, inplace = True)\n",
    "        df.drop(['state', 'district'], axis = 1, inplace = True)\n",
    "        df.to_csv(f'vote_data_116/h{i+701}.csv', index=False)\n",
    "\n",
    "    except FileNotFoundError:\n",
    "        print(i+701)\n",
    "        continue"
   ]
  }
 ],
 "metadata": {
  "kernelspec": {
   "display_name": "Python 3 (ipykernel)",
   "language": "python",
   "name": "python3"
  },
  "language_info": {
   "codemirror_mode": {
    "name": "ipython",
    "version": 3
   },
   "file_extension": ".py",
   "mimetype": "text/x-python",
   "name": "python",
   "nbconvert_exporter": "python",
   "pygments_lexer": "ipython3",
   "version": "3.9.16"
  }
 },
 "nbformat": 4,
 "nbformat_minor": 2
}
